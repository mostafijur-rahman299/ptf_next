{
 "cells": [
  {
   "cell_type": "code",
   "execution_count": 54,
   "id": "403273e5",
   "metadata": {},
   "outputs": [
    {
     "name": "stdout",
     "output_type": "stream",
     "text": [
      "likesamsung\n",
      "ikesamsung\n",
      "kesamsung\n",
      "esamsung\n",
      "samsung\n",
      "amsung\n",
      "msung\n",
      "sung\n",
      "ung\n",
      "ng\n",
      "g\n",
      "\n"
     ]
    },
    {
     "data": {
      "text/plain": [
       "True"
      ]
     },
     "execution_count": 54,
     "metadata": {},
     "output_type": "execute_result"
    }
   ],
   "source": [
    "\n",
    "class Node:\n",
    "    def __init__(self):\n",
    "        self.children = [None] * 26\n",
    "        self.end_of_word = False\n",
    "        \n",
    "\n",
    "class Trie:\n",
    "    def __init__(self):\n",
    "        self.root = Node()\n",
    "        \n",
    "    def print_nodes(self):\n",
    "        root = self.root\n",
    "        \n",
    "        def print_recursive(root):\n",
    "            if not root:\n",
    "                return\n",
    "            \n",
    "            for child in root.children:\n",
    "                print(child)\n",
    "                print_recursive(child)\n",
    "                \n",
    "        \n",
    "        print_recursive(root)\n",
    "        \n",
    "    def insert_word(self, word):\n",
    "        root = self.root\n",
    "        for char in word:\n",
    "            index = ord(char) - ord('a')\n",
    "            if not root.children[index]:\n",
    "                root.children[index] = Node()\n",
    "            else:\n",
    "                root = root.children[index]\n",
    "                \n",
    "    \n",
    "    def search(self, word):\n",
    "        current = self.root\n",
    "        \n",
    "        for char in word:\n",
    "            index = ord(char) - ord('a')\n",
    "            if not current.children[index]:\n",
    "                return False\n",
    "            current = current.children[index]\n",
    "                \n",
    "        return True\n",
    "    \n",
    "    \n",
    "    def word_break(self, string):\n",
    "        if len(string) == 0:\n",
    "            return  # Base case for string length 1\n",
    "\n",
    "        for index in range(1, len(string) + 1):\n",
    "            first = string[0:index]\n",
    "            second = string[index:len(string)]\n",
    "            if self.search(first) and self.word_break(second):  # Recursive call on the instance\n",
    "                return True\n",
    "            print(second)\n",
    "\n",
    "        return False  # Return a value to indicate completion\n",
    "    \n",
    "    \n",
    "words = [\"i\", \"like\", \"sam\", \"samsung\", \"mobile\", \"ice\"]\n",
    "\n",
    "trie = Trie()\n",
    "\n",
    "for word in words:\n",
    "    trie.insert_word(word)\n",
    "\n",
    "    \n",
    "# trie.print_nodes()\n",
    "\n",
    "\n",
    "\n",
    "trie.word_break(\"ilikesamsung\")\n"
   ]
  },
  {
   "cell_type": "code",
   "execution_count": null,
   "id": "d3953cb7",
   "metadata": {},
   "outputs": [],
   "source": [
    "\n"
   ]
  },
  {
   "cell_type": "code",
   "execution_count": null,
   "id": "76cde059",
   "metadata": {},
   "outputs": [],
   "source": []
  }
 ],
 "metadata": {
  "kernelspec": {
   "display_name": "Python 3 (ipykernel)",
   "language": "python",
   "name": "python3"
  },
  "language_info": {
   "codemirror_mode": {
    "name": "ipython",
    "version": 3
   },
   "file_extension": ".py",
   "mimetype": "text/x-python",
   "name": "python",
   "nbconvert_exporter": "python",
   "pygments_lexer": "ipython3",
   "version": "3.10.6"
  }
 },
 "nbformat": 4,
 "nbformat_minor": 5
}
